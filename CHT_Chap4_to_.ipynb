{
 "cells": [
  {
   "cell_type": "code",
   "execution_count": 1,
   "metadata": {
    "collapsed": true
   },
   "outputs": [],
   "source": [
    "%matplotlib inline\n",
    "import matplotlib as mpl\n",
    "import matplotlib.pyplot as plt\n",
    "import numpy as np\n",
    "import scipy as sp\n",
    "import io as io\n",
    "import math\n",
    "import copy\n",
    "import scipy.signal as signal\n",
    "\n",
    "rcdef = plt.rcParams.copy()\n",
    "newparams_for_screen = {'axes.labelsize': 14, 'axes.linewidth': 0.75, \n",
    "                        'savefig.dpi': 100, 'lines.linewidth': 0.6, \n",
    "                        'figure.figsize': (8, 6), 'ytick.labelsize': 12, \n",
    "                        'xtick.labelsize': 12, 'axes.titlesize': 14,\n",
    "                        'legend.fontsize': 10, 'legend.frameon': True,\n",
    "                        'legend.handlelength': 1.5}\n",
    "plt.rcParams.update(newparams_for_screen)"
   ]
  },
  {
   "cell_type": "markdown",
   "metadata": {},
   "source": [
    "---"
   ]
  },
  {
   "cell_type": "markdown",
   "metadata": {},
   "source": [
    "### Exercise 4.1 \n",
    "Extend your 1-d finite-volume solver for advection (from Exercise 3.7) to solve Burgers' equation. Your will need to change the Riemann solver and use the local velocity in the construction of the interface states. Run the examples shown in Figures 4.3 and 4.4."
   ]
  }
 ],
 "metadata": {
  "kernelspec": {
   "display_name": "Python 3",
   "language": "python",
   "name": "python3"
  },
  "language_info": {
   "codemirror_mode": {
    "name": "ipython",
    "version": 3
   },
   "file_extension": ".py",
   "mimetype": "text/x-python",
   "name": "python",
   "nbconvert_exporter": "python",
   "pygments_lexer": "ipython3",
   "version": "3.5.2"
  }
 },
 "nbformat": 4,
 "nbformat_minor": 0
}
